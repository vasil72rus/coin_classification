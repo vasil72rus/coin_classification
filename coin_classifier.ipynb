{
 "cells": [
  {
   "cell_type": "code",
   "execution_count": null,
   "metadata": {
    "colab": {
     "base_uri": "https://localhost:8080/"
    },
    "executionInfo": {
     "elapsed": 94013,
     "status": "ok",
     "timestamp": 1630648128109,
     "user": {
      "displayName": "Coins Recognition",
      "photoUrl": "https://lh3.googleusercontent.com/a/default-user=s64",
      "userId": "09688270411238419556"
     },
     "user_tz": -300
    },
    "id": "yxuvWkwmXBZe",
    "outputId": "401e9f31-af0f-4f38-edbf-6e1560421f0a"
   },
   "outputs": [
    {
     "name": "stdout",
     "output_type": "stream",
     "text": [
      "Mounted at /content/drive\n"
     ]
    }
   ],
   "source": [
    "from google.colab import drive\n",
    "drive.mount('/content/drive')"
   ]
  },
  {
   "cell_type": "code",
   "execution_count": 1,
   "metadata": {
    "colab": {
     "base_uri": "https://localhost:8080/"
    },
    "executionInfo": {
     "elapsed": 17062,
     "status": "ok",
     "timestamp": 1630671965681,
     "user": {
      "displayName": "Coins Recognition",
      "photoUrl": "https://lh3.googleusercontent.com/a/default-user=s64",
      "userId": "09688270411238419556"
     },
     "user_tz": -300
    },
    "id": "sjpQ3CulxPyD",
    "outputId": "4c0ed108-0f2a-4839-c1e5-78469e5e4709",
    "scrolled": true
   },
   "outputs": [],
   "source": [
    "import pickle as pk\n",
    "import numpy as np\n",
    "import pandas as pd\n",
    "\n",
    "\n",
    "# from __future__ import division\n",
    "# from __future__ import print_function\n",
    "\n",
    "from tensorflow.keras.layers import Lambda, Dense, TimeDistributed, Input, Flatten, MaxPool2D, Reshape, Conv2D, UpSampling2D\n",
    "from tensorflow.keras.models import Model\n",
    "from tensorflow.keras.preprocessing import image\n",
    "import tensorflow.keras.backend as K\n",
    "from tensorflow.keras.layers import Layer, concatenate, Reshape\n",
    "from tensorflow.keras.utils import plot_model\n",
    "from tensorflow.keras.models import load_model\n",
    "from tensorflow.keras.optimizers import Adam\n",
    " \n",
    "\n",
    "# from vgg16 import VGG16\n",
    "from tensorflow.keras.applications import VGG16, VGG19, DenseNet201\n",
    "from tensorflow.keras.applications.vgg16 import preprocess_input\n",
    "\n",
    "import scipy.io\n",
    "from scipy.spatial.distance import braycurtis, cosine, canberra, chebyshev, cityblock, correlation, euclidean, mahalanobis, minkowski, seuclidean, sqeuclidean, wminkowski \n",
    "import os\n",
    "import matplotlib.pyplot as plt\n",
    "import cv2\n",
    "from time import time\n",
    "\n",
    "\n",
    "# !gdown --id 1IjCE3DwfHCPf2dZPHqSzU68QdaY7js6C --output best.pt\n",
    "# !git clone https://github.com/ultralytics/yolov5  # clone repo\n",
    "# %cd yolov5\n",
    "# !git reset --hard 886f1c03d839575afecb059accf74296fad395b6\n",
    "# !pip install -qr requirements.txt  # install dependencies (ignore errors)\n",
    "import torch\n",
    "from IPython.display import Image, clear_output \n",
    "from os import listdir\n",
    "from os.path import join, splitext, split, exists, isdir\n",
    "from PIL import Image as Im\n",
    "import numpy as np\n",
    "from os import listdir\n",
    "from shutil import copy, rmtree"
   ]
  },
  {
   "cell_type": "markdown",
   "metadata": {
    "id": "U-Tjx8xu0HVA"
   },
   "source": [
    "# Формируем эмбеддинги для всех изображений"
   ]
  },
  {
   "cell_type": "code",
   "execution_count": 4,
   "metadata": {
    "executionInfo": {
     "elapsed": 7,
     "status": "ok",
     "timestamp": 1630671965683,
     "user": {
      "displayName": "Coins Recognition",
      "photoUrl": "https://lh3.googleusercontent.com/a/default-user=s64",
      "userId": "09688270411238419556"
     },
     "user_tz": -300
    },
    "id": "5u7Y4QdpWIuH"
   },
   "outputs": [],
   "source": [
    "def contrast(img, contrast):\n",
    "    clahe = cv2.createCLAHE(clipLimit=contrast, tileGridSize=(5,5))\n",
    "    return clahe.apply(img)\n",
    "\n",
    "def get_edges(img):\n",
    "    img = np.uint8(cv2.cvtColor(img, cv2.COLOR_BGR2GRAY))\n",
    "    img1 = contrast(img, 1)\n",
    "    img2 = contrast(img, 2)\n",
    "    img3 = contrast(img, 3)\n",
    "    return np.stack([img1, img2, img3], axis=2)\n",
    "\n",
    "\n",
    "def load_image(path):\n",
    "    img = cv2.resize(cv2.imread(path, cv2.IMREAD_COLOR), (224, 224))\n",
    "\n",
    "    return img"
   ]
  },
  {
   "cell_type": "code",
   "execution_count": 5,
   "metadata": {
    "executionInfo": {
     "elapsed": 20737,
     "status": "ok",
     "timestamp": 1630671986413,
     "user": {
      "displayName": "Coins Recognition",
      "photoUrl": "https://lh3.googleusercontent.com/a/default-user=s64",
      "userId": "09688270411238419556"
     },
     "user_tz": -300
    },
    "id": "QL_fMEtZqy6-"
   },
   "outputs": [],
   "source": [
    "'''\n",
    "  Собственная функция метрики, обрабатывающая пересечение двух областей\n",
    "'''\n",
    "def dice_coef(y_true, y_pred):\n",
    "    return (2. * K.sum(y_true * y_pred) + 1.) / (K.sum(y_true) + K.sum(y_pred) + 1.) \n",
    "\n",
    "cast = {'dice_coef':dice_coef}\n",
    "\n",
    "segmentation_model = load_model('/content/drive/Othercomputers/Мое устройство Компьютер/coin_country_classification/segmentation_coin.h5', custom_objects=cast)"
   ]
  },
  {
   "cell_type": "code",
   "execution_count": 6,
   "metadata": {
    "colab": {
     "base_uri": "https://localhost:8080/"
    },
    "executionInfo": {
     "elapsed": 21,
     "status": "ok",
     "timestamp": 1630671986414,
     "user": {
      "displayName": "Coins Recognition",
      "photoUrl": "https://lh3.googleusercontent.com/a/default-user=s64",
      "userId": "09688270411238419556"
     },
     "user_tz": -300
    },
    "id": "gF9misPCkym_",
    "outputId": "040653d1-dcb5-435a-e048-8331f3222af2"
   },
   "outputs": [
    {
     "name": "stdout",
     "output_type": "stream",
     "text": [
      "[1 2 12 ... 79146 79147 79148]\n"
     ]
    }
   ],
   "source": [
    "df = pd.read_csv('/content/drive/Othercomputers/Мое устройство Компьютер/coin_country_classification/csv/catalog.csv')\n",
    "images = df.values[:,0]\n",
    "# images = os.listdir('/content/drive/MyDrive/Проекты ML/coin_country_classification/images (1)/image')\n",
    "print(images)"
   ]
  },
  {
   "cell_type": "code",
   "execution_count": 7,
   "metadata": {
    "executionInfo": {
     "elapsed": 19,
     "status": "ok",
     "timestamp": 1630671986415,
     "user": {
      "displayName": "Coins Recognition",
      "photoUrl": "https://lh3.googleusercontent.com/a/default-user=s64",
      "userId": "09688270411238419556"
     },
     "user_tz": -300
    },
    "id": "jqgMiS22tCjA"
   },
   "outputs": [],
   "source": [
    "def segmentation(images):\n",
    "    images = np.array(images)\n",
    "    predict = (segmentation_model.predict(images)).round().reshape(2, 224, 224)\n",
    "    mask = np.stack([predict, predict, predict], axis=3)\n",
    "    img = images.copy()\n",
    "    img[mask==0] = 255\n",
    "    idx1 = np.argwhere(np.all(mask[..., :] == 0, axis=1))\n",
    "    idx2 = np.argwhere(np.all(mask[..., :] == 0, axis=2))\n",
    "    images = np.delete(images, idx1, axis=2)\n",
    "    images = np.delete(images, idx2, axis=1)\n",
    "    images = np.array(list(map(lambda x:cv2.resize(x, (224, 224)), images)))\n",
    "    return images"
   ]
  },
  {
   "cell_type": "code",
   "execution_count": 11,
   "metadata": {
    "executionInfo": {
     "elapsed": 353,
     "status": "ok",
     "timestamp": 1630671986754,
     "user": {
      "displayName": "Coins Recognition",
      "photoUrl": "https://lh3.googleusercontent.com/a/default-user=s64",
      "userId": "09688270411238419556"
     },
     "user_tz": -300
    },
    "id": "12RGkBCh0ozB"
   },
   "outputs": [],
   "source": [
    "def test(df, filenames, embeddings, model, distance, title, model_name, show=True):\n",
    "    imgs = image_array2(filenames[0], filenames[1])\n",
    "    seg = segmentation(imgs)\n",
    "    imga, imgr = seg\n",
    "    folder = filenames[0].split('/')[-2]\n",
    "    img = model.predict(np.vstack([preprocess_input(get_edges(imga)).reshape(1,224,224,3), \n",
    "                                    preprocess_input(get_edges(imgr)).reshape(1,224,224,3),\n",
    "                                    ]))\n",
    "\n",
    "\n",
    "    img_seg = img[0] + img[1]\n",
    "\n",
    "    predict_cos_seg = []\n",
    "    start = time()\n",
    "    for embedding, pca in zip(embeddings, embeddings8000): # zip(embeddings, embeddings8000):\n",
    "        predict_cos_seg.append(distance(img_seg, embedding))\n",
    "    predict_cos_seg = np.array(predict_cos_seg)\n",
    "\n",
    "    print(time() - start)\n",
    "    result_answer_seg = int(folder) in df.iloc[np.argsort(predict_cos_seg)[:10]].values[:,0]\n",
    "    result_position_seg = np.where(df.iloc[np.argsort(predict_cos_seg)].values[:,0] == int(folder))[0][0]\n",
    "    result_cos_seg = predict_cos_seg[np.argsort(predict_cos_seg)][np.where(df.iloc[np.argsort(predict_cos_seg)].values[:,0] == int(folder))[0][0]]\n",
    "\n",
    "\n",
    "    result = [result_answer_seg, result_position_seg, result_cos_seg]\n",
    "\n",
    "    if result_answer_seg:\n",
    "        return result\n",
    "    \n",
    "    result_position = result_position_seg\n",
    "    predict_cos = result_cos_seg\n",
    "    result_answer = result_answer_seg\n",
    "    save_folder = 'embeddings'\n",
    "    if show:\n",
    "        plt.figure(figsize=(20, 12))\n",
    "        plt.subplot(4, 6, 1)\n",
    "        # plt.imshow(load_image(os.path.join(filenames, names[0])))\n",
    "        plt.imshow(imga)\n",
    "        plt.xticks([])\n",
    "        plt.yticks([])\n",
    "        plt.grid(False)\n",
    "        plt.xlabel(f'Input: {folder}\\n{result_position}')\n",
    "        plt.subplot(4, 6, 2)\n",
    "        # plt.imshow(load_image(os.path.join(filenames, names[1])))\n",
    "        plt.imshow(imgr)\n",
    "        plt.xticks([])\n",
    "        plt.yticks([])\n",
    "        plt.grid(False)\n",
    "        plt.xlabel(f'Input\\n{folder}')\n",
    "        plt.subplot(4, 6, 3)\n",
    "        plt.xticks([])\n",
    "        plt.yticks([])\n",
    "        plt.grid(False)\n",
    "        pred_name = f'images/{folder}_a.jpg'\n",
    "        plt.imshow(cv2.resize(cv2.imread(pred_name, cv2.IMREAD_COLOR), (224, 224)))\n",
    "        # plt.imshow(imgs[0])\n",
    "        plt.xlabel(f'в базе')\n",
    "        plt.subplot(4, 6, 4)\n",
    "        plt.xticks([])\n",
    "        plt.yticks([])\n",
    "        plt.grid(False)\n",
    "        pred_name = f'images/{folder}_r.jpg'\n",
    "        plt.imshow(cv2.resize(cv2.imread(pred_name, cv2.IMREAD_COLOR), (224, 224)))\n",
    "        # plt.imshow(imgs[1])\n",
    "        plt.xlabel(f'в базе')\n",
    "        j = 5\n",
    "        for n, i in enumerate(np.argsort(predict_cos)[:10]):\n",
    "            plt.subplot(4, 6, j)\n",
    "            plt.xticks([])\n",
    "            plt.yticks([])\n",
    "            plt.grid(False)\n",
    "            pred_name = f'images/{df.values[i][0]}_a.jpg'\n",
    "            plt.imshow(cv2.resize(cv2.imread(pred_name, cv2.IMREAD_COLOR), (224, 224)))\n",
    "            # plt.imshow(imgs[0])\n",
    "            plt.xlabel(f'dist: {round(predict_cos[i], 4)}\\nn:{df.values[i][0]}_a')\n",
    "            plt.subplot(4, 6, j + 1)\n",
    "            plt.xticks([])\n",
    "            plt.yticks([])\n",
    "            plt.grid(False)\n",
    "            pred_name = f'images/{df.values[i][0]}_r.jpg'\n",
    "            plt.imshow(cv2.resize(cv2.imread(pred_name, cv2.IMREAD_COLOR), (224, 224)))\n",
    "            # plt.imshow(imgs[1])\n",
    "            plt.xlabel(f'dist: {round(predict_cos[i], 4)}\\nn:{df.values[i][0]}_r')\n",
    "            j += 2\n",
    "        plt.suptitle(title + ' - ' + str(result_answer))\n",
    "        # plt.suptitle(title)\n",
    "        plt.savefig(f'{save_folder}/{title}_{result_answer}.png')\n",
    "        plt.show()\n",
    "\n",
    "    return result\n",
    "    # return 1"
   ]
  },
  {
   "cell_type": "code",
   "execution_count": 12,
   "metadata": {
    "executionInfo": {
     "elapsed": 4,
     "status": "ok",
     "timestamp": 1630671986755,
     "user": {
      "displayName": "Coins Recognition",
      "photoUrl": "https://lh3.googleusercontent.com/a/default-user=s64",
      "userId": "09688270411238419556"
     },
     "user_tz": -300
    },
    "id": "D12RlM0kWIul"
   },
   "outputs": [],
   "source": [
    "distance = [braycurtis, cosine, canberra, chebyshev, cityblock, correlation, \n",
    "            euclidean, minkowski, sqeuclidean]\n",
    "distance_name = ['braycurtis', 'cosine', 'canberra', 'chebyshev', 'cityblock', 'correlation', \n",
    "            'euclidean', 'minkowski', 'sqeuclidean']"
   ]
  },
  {
   "cell_type": "markdown",
   "metadata": {
    "id": "YkN9gM_AORcD"
   },
   "source": [
    "[0.5204081632653061, 0.5408163265306123, 0.6122448979591837]\n",
    "\n",
    "[47, 45, 38]"
   ]
  },
  {
   "cell_type": "code",
   "execution_count": 13,
   "metadata": {
    "executionInfo": {
     "elapsed": 4,
     "status": "ok",
     "timestamp": 1630671986756,
     "user": {
      "displayName": "Coins Recognition",
      "photoUrl": "https://lh3.googleusercontent.com/a/default-user=s64",
      "userId": "09688270411238419556"
     },
     "user_tz": -300
    },
    "id": "XvtjQSIrf5W2"
   },
   "outputs": [],
   "source": [
    "def create_vgg19():\n",
    "  vgg_model = VGG19(weights='imagenet')\n",
    "  return Model(inputs=vgg_model.layers[0].input, outputs=vgg_model.layers[-4].output)\n",
    "\n",
    "\n",
    "def create_vgg16():\n",
    "  vgg_model = VGG16(weights='imagenet')\n",
    "  return Model(inputs=vgg_model.layers[0].input, outputs=vgg_model.layers[-4].output)\n",
    "\n",
    "\n",
    "def create_dense():\n",
    "  dense_model =  DenseNet201()\n",
    "  return Model(dense_model.input, dense_model.layers[-2].output)"
   ]
  },
  {
   "cell_type": "code",
   "execution_count": 16,
   "metadata": {
    "colab": {
     "base_uri": "https://localhost:8080/",
     "height": 817
    },
    "executionInfo": {
     "elapsed": 64459,
     "status": "error",
     "timestamp": 1630672252378,
     "user": {
      "displayName": "Coins Recognition",
      "photoUrl": "https://lh3.googleusercontent.com/a/default-user=s64",
      "userId": "09688270411238419556"
     },
     "user_tz": -300
    },
    "id": "Kz-pTm_9tQ9U",
    "outputId": "9d444f66-3e05-40d1-d626-f20ef39f7bc9"
   },
   "outputs": [
    {
     "name": "stderr",
     "output_type": "stream",
     "text": [
      "/usr/local/lib/python3.7/dist-packages/sklearn/base.py:318: UserWarning: Trying to unpickle estimator PCA from version 0.24.1 when using version 0.22.2.post1. This might lead to breaking code or invalid results. Use at your own risk.\n",
      "  UserWarning)\n"
     ]
    },
    {
     "name": "stdout",
     "output_type": "stream",
     "text": [
      "/content/yolov5\n",
      "Namespace(agnostic_nms=False, augment=False, classes=None, conf_thres=0.5, device='', exist_ok=False, img_size=416, iou_thres=0.45, name='exp', project='runs/detect', save_conf=False, save_txt=True, source='/content/_val', update=False, view_img=False, weights=['/content/best.pt'])\n",
      "YOLOv5 v4.0-126-g886f1c0 torch 1.9.0+cu102 CPU\n",
      "\n",
      "Fusing layers... \n",
      "/usr/local/lib/python3.7/dist-packages/torch/nn/functional.py:718: UserWarning: Named tensors and all their associated APIs are an experimental feature and subject to change. Please do not use them for anything important until they are released as stable. (Triggered internally at  /pytorch/c10/core/TensorImpl.h:1156.)\n",
      "  return torch.max_pool2d(input, kernel_size, stride, padding, dilation, ceil_mode)\n",
      "Model Summary: 232 layers, 7249215 parameters, 0 gradients, 16.8 GFLOPS\n",
      "image 1/2 /content/_val/230223304.0.jpg: 416x416 1 money, Done. (0.268s)\n",
      "image 2/2 /content/_val/230223304.1.jpg: 416x416 1 money, Done. (0.127s)\n",
      "Results saved to runs/detect/exp636\n",
      "2 labels saved to runs/detect/exp636/labels\n",
      "Done. (0.482s)\n",
      "5.32724928855896\n"
     ]
    },
    {
     "ename": "error",
     "evalue": "ignored",
     "output_type": "error",
     "traceback": [
      "\u001b[0;31m---------------------------------------------------------------------------\u001b[0m",
      "\u001b[0;31merror\u001b[0m                                     Traceback (most recent call last)",
      "\u001b[0;32m<ipython-input-16-2c68a7d3b4da>\u001b[0m in \u001b[0;36m<module>\u001b[0;34m()\u001b[0m\n\u001b[1;32m     37\u001b[0m                 os.path.join(test_path, folder) + '/' + images_name[1]]\n\u001b[1;32m     38\u001b[0m     \u001b[0;31m# try:\u001b[0m\u001b[0;34m\u001b[0m\u001b[0;34m\u001b[0m\u001b[0;34m\u001b[0m\u001b[0m\n\u001b[0;32m---> 39\u001b[0;31m     \u001b[0mpredict\u001b[0m \u001b[0;34m=\u001b[0m \u001b[0mtest\u001b[0m\u001b[0;34m(\u001b[0m\u001b[0mdf\u001b[0m\u001b[0;34m,\u001b[0m \u001b[0mfilepaths\u001b[0m\u001b[0;34m,\u001b[0m \u001b[0membeddings\u001b[0m\u001b[0;34m,\u001b[0m \u001b[0mmodel\u001b[0m\u001b[0;34m,\u001b[0m \u001b[0mdistance\u001b[0m\u001b[0;34m[\u001b[0m\u001b[0;36m1\u001b[0m\u001b[0;34m]\u001b[0m\u001b[0;34m,\u001b[0m \u001b[0;34mf'{folder}'\u001b[0m\u001b[0;34m,\u001b[0m \u001b[0;34m'not_found'\u001b[0m\u001b[0;34m,\u001b[0m \u001b[0;32mTrue\u001b[0m\u001b[0;34m)\u001b[0m\u001b[0;34m\u001b[0m\u001b[0;34m\u001b[0m\u001b[0m\n\u001b[0m\u001b[1;32m     40\u001b[0m     \u001b[0;31m# except Exception as ex:\u001b[0m\u001b[0;34m\u001b[0m\u001b[0;34m\u001b[0m\u001b[0;34m\u001b[0m\u001b[0m\n\u001b[1;32m     41\u001b[0m     \u001b[0;31m#   print(ex)\u001b[0m\u001b[0;34m\u001b[0m\u001b[0;34m\u001b[0m\u001b[0;34m\u001b[0m\u001b[0m\n",
      "\u001b[0;32m<ipython-input-11-b60b409ad92e>\u001b[0m in \u001b[0;36mtest\u001b[0;34m(df, filenames, embeddings, model, distance, title, model_name, show)\u001b[0m\n\u001b[1;32m     85\u001b[0m           \u001b[0mplt\u001b[0m\u001b[0;34m.\u001b[0m\u001b[0mgrid\u001b[0m\u001b[0;34m(\u001b[0m\u001b[0;32mFalse\u001b[0m\u001b[0;34m)\u001b[0m\u001b[0;34m\u001b[0m\u001b[0;34m\u001b[0m\u001b[0m\n\u001b[1;32m     86\u001b[0m           \u001b[0mpred_name\u001b[0m \u001b[0;34m=\u001b[0m \u001b[0;34mf'/content/drive/MyDrive/Проекты ML/coin_country_classification/coin_country_classification/images/{folder}_a.jpg'\u001b[0m\u001b[0;34m\u001b[0m\u001b[0;34m\u001b[0m\u001b[0m\n\u001b[0;32m---> 87\u001b[0;31m           \u001b[0mplt\u001b[0m\u001b[0;34m.\u001b[0m\u001b[0mimshow\u001b[0m\u001b[0;34m(\u001b[0m\u001b[0mcv2\u001b[0m\u001b[0;34m.\u001b[0m\u001b[0mresize\u001b[0m\u001b[0;34m(\u001b[0m\u001b[0mcv2\u001b[0m\u001b[0;34m.\u001b[0m\u001b[0mimread\u001b[0m\u001b[0;34m(\u001b[0m\u001b[0mpred_name\u001b[0m\u001b[0;34m,\u001b[0m \u001b[0mcv2\u001b[0m\u001b[0;34m.\u001b[0m\u001b[0mIMREAD_COLOR\u001b[0m\u001b[0;34m)\u001b[0m\u001b[0;34m,\u001b[0m \u001b[0;34m(\u001b[0m\u001b[0;36m224\u001b[0m\u001b[0;34m,\u001b[0m \u001b[0;36m224\u001b[0m\u001b[0;34m)\u001b[0m\u001b[0;34m)\u001b[0m\u001b[0;34m)\u001b[0m\u001b[0;34m\u001b[0m\u001b[0;34m\u001b[0m\u001b[0m\n\u001b[0m\u001b[1;32m     88\u001b[0m           \u001b[0;31m# plt.imshow(imgs[0])\u001b[0m\u001b[0;34m\u001b[0m\u001b[0;34m\u001b[0m\u001b[0;34m\u001b[0m\u001b[0m\n\u001b[1;32m     89\u001b[0m           \u001b[0mplt\u001b[0m\u001b[0;34m.\u001b[0m\u001b[0mxlabel\u001b[0m\u001b[0;34m(\u001b[0m\u001b[0;34mf'в базе'\u001b[0m\u001b[0;34m)\u001b[0m\u001b[0;34m\u001b[0m\u001b[0;34m\u001b[0m\u001b[0m\n",
      "\u001b[0;31merror\u001b[0m: OpenCV(4.1.2) /io/opencv/modules/imgproc/src/resize.cpp:3720: error: (-215:Assertion failed) !ssize.empty() in function 'resize'\n"
     ]
    },
    {
     "data": {
      "image/png": "[encoded data removed]",
      "text/plain": [
       "<Figure size 1440x864 with 3 Axes>"
      ]
     },
     "metadata": {},
     "output_type": "display_data"
    }
   ],
   "source": [
    "model = create_vgg19()\n",
    "embeddings = np.load(f'embeddingsOconcon_VGG19.npy')\n",
    "accuracy = []\n",
    "count_list = []\n",
    "not_found_list = []\n",
    "results = {'catalog':[], 'result_answer_seg':[], 'result_position_seg':[], 'result_cos_seg':[]}\n",
    "acc = []\n",
    "count = 0\n",
    "not_found = []\n",
    "start = time()\n",
    "i = 0\n",
    "test_path = '/content/drive/MyDrive/Проекты ML/coin_country_classification/coin_country_classification/test'\n",
    "for folder in os.listdir(test_path)[2:]:\n",
    "    if len(list(filter(lambda x: 'ob' in x, os.listdir(os.path.join(test_path, folder))))) == 2:\n",
    "        images_name = list(filter(lambda x: 'ob' in x, os.listdir(os.path.join(test_path, folder))))\n",
    "    else:\n",
    "        images_name = list(filter(lambda x: not 'ob' in x, os.listdir(os.path.join(test_path, folder))))\n",
    "    filepaths = [os.path.join(test_path, folder) + '/' + images_name[0],\n",
    "                os.path.join(test_path, folder) + '/' + images_name[1]]\n",
    "    try:\n",
    "        predict = test(df, filepaths, embeddings, model, distance[1], f'{folder}', 'not_found', )\n",
    "    except Exception as ex:\n",
    "      print(ex)\n",
    "      continue\n",
    "    results['catalog'].append(int(folder))\n",
    "    for key, value in zip(list(results.keys())[1:], predict):\n",
    "        results[key].append(value)\n",
    "    i += 1\n",
    "resultfarme = pd.DataFrame(data=results)"
   ]
  },
  {
   "cell_type": "code",
   "execution_count": null,
   "metadata": {
    "executionInfo": {
     "elapsed": 8,
     "status": "aborted",
     "timestamp": 1630672076690,
     "user": {
      "displayName": "Coins Recognition",
      "photoUrl": "https://lh3.googleusercontent.com/a/default-user=s64",
      "userId": "09688270411238419556"
     },
     "user_tz": -300
    },
    "id": "7hJMmGlPv61T"
   },
   "outputs": [],
   "source": [
    " list(results.keys())"
   ]
  },
  {
   "cell_type": "code",
   "execution_count": null,
   "metadata": {
    "executionInfo": {
     "elapsed": 9,
     "status": "aborted",
     "timestamp": 1630672076691,
     "user": {
      "displayName": "Coins Recognition",
      "photoUrl": "https://lh3.googleusercontent.com/a/default-user=s64",
      "userId": "09688270411238419556"
     },
     "user_tz": -300
    },
    "id": "vChdFFXBvmZV"
   },
   "outputs": [],
   "source": [
    "del results[list(results.keys())[4]]"
   ]
  },
  {
   "cell_type": "code",
   "execution_count": null,
   "metadata": {
    "executionInfo": {
     "elapsed": 14,
     "status": "aborted",
     "timestamp": 1630671456474,
     "user": {
      "displayName": "Coins Recognition",
      "photoUrl": "https://lh3.googleusercontent.com/a/default-user=s64",
      "userId": "09688270411238419556"
     },
     "user_tz": -300
    },
    "id": "HPM19ErCvbrr"
   },
   "outputs": [],
   "source": [
    "resultfarme = pd.DataFrame(data=results)"
   ]
  },
  {
   "cell_type": "code",
   "execution_count": null,
   "metadata": {
    "executionInfo": {
     "elapsed": 16,
     "status": "aborted",
     "timestamp": 1630671456476,
     "user": {
      "displayName": "Coins Recognition",
      "photoUrl": "https://lh3.googleusercontent.com/a/default-user=s64",
      "userId": "09688270411238419556"
     },
     "user_tz": -300
    },
    "id": "Wi4BWaMR-oNP"
   },
   "outputs": [],
   "source": [
    "resultframe.head(50)"
   ]
  },
  {
   "cell_type": "code",
   "execution_count": null,
   "metadata": {
    "colab": {
     "base_uri": "https://localhost:8080/",
     "height": 698
    },
    "executionInfo": {
     "elapsed": 488,
     "status": "ok",
     "timestamp": 1629463577013,
     "user": {
      "displayName": "Vasil Nugmanov",
      "photoUrl": "",
      "userId": "05552358374765957475"
     },
     "user_tz": -300
    },
    "id": "HBHkTn8DfOmF",
    "outputId": "0a4ffe31-e426-4fa6-cec9-8f2abda9c0ab"
   },
   "outputs": [
    {
     "data": {
      "text/html": [
       "<div>\n",
       "<style scoped>\n",
       "    .dataframe tbody tr th:only-of-type {\n",
       "        vertical-align: middle;\n",
       "    }\n",
       "\n",
       "    .dataframe tbody tr th {\n",
       "        vertical-align: top;\n",
       "    }\n",
       "\n",
       "    .dataframe thead th {\n",
       "        text-align: right;\n",
       "    }\n",
       "</style>\n",
       "<table border=\"1\" class=\"dataframe\">\n",
       "  <thead>\n",
       "    <tr style=\"text-align: right;\">\n",
       "      <th></th>\n",
       "      <th>catalog</th>\n",
       "      <th>result_answer_seg</th>\n",
       "      <th>result_position_seg</th>\n",
       "      <th>result_cos_seg</th>\n",
       "    </tr>\n",
       "  </thead>\n",
       "  <tbody>\n",
       "    <tr>\n",
       "      <th>18</th>\n",
       "      <td>11651</td>\n",
       "      <td>False</td>\n",
       "      <td>21</td>\n",
       "      <td>0.361160</td>\n",
       "    </tr>\n",
       "    <tr>\n",
       "      <th>22</th>\n",
       "      <td>10810</td>\n",
       "      <td>False</td>\n",
       "      <td>11</td>\n",
       "      <td>0.277990</td>\n",
       "    </tr>\n",
       "    <tr>\n",
       "      <th>23</th>\n",
       "      <td>1620</td>\n",
       "      <td>False</td>\n",
       "      <td>36</td>\n",
       "      <td>0.292278</td>\n",
       "    </tr>\n",
       "    <tr>\n",
       "      <th>28</th>\n",
       "      <td>15434</td>\n",
       "      <td>False</td>\n",
       "      <td>44</td>\n",
       "      <td>0.569273</td>\n",
       "    </tr>\n",
       "    <tr>\n",
       "      <th>29</th>\n",
       "      <td>13350</td>\n",
       "      <td>False</td>\n",
       "      <td>712</td>\n",
       "      <td>0.625256</td>\n",
       "    </tr>\n",
       "    <tr>\n",
       "      <th>31</th>\n",
       "      <td>13997</td>\n",
       "      <td>False</td>\n",
       "      <td>11</td>\n",
       "      <td>0.236715</td>\n",
       "    </tr>\n",
       "    <tr>\n",
       "      <th>33</th>\n",
       "      <td>11803</td>\n",
       "      <td>False</td>\n",
       "      <td>6848</td>\n",
       "      <td>0.564703</td>\n",
       "    </tr>\n",
       "    <tr>\n",
       "      <th>38</th>\n",
       "      <td>27195</td>\n",
       "      <td>False</td>\n",
       "      <td>11</td>\n",
       "      <td>0.486325</td>\n",
       "    </tr>\n",
       "    <tr>\n",
       "      <th>42</th>\n",
       "      <td>24203</td>\n",
       "      <td>False</td>\n",
       "      <td>845</td>\n",
       "      <td>0.448799</td>\n",
       "    </tr>\n",
       "    <tr>\n",
       "      <th>57</th>\n",
       "      <td>27698</td>\n",
       "      <td>False</td>\n",
       "      <td>5448</td>\n",
       "      <td>0.564506</td>\n",
       "    </tr>\n",
       "    <tr>\n",
       "      <th>58</th>\n",
       "      <td>24339</td>\n",
       "      <td>False</td>\n",
       "      <td>122</td>\n",
       "      <td>0.326460</td>\n",
       "    </tr>\n",
       "    <tr>\n",
       "      <th>59</th>\n",
       "      <td>30404</td>\n",
       "      <td>False</td>\n",
       "      <td>171</td>\n",
       "      <td>0.395615</td>\n",
       "    </tr>\n",
       "    <tr>\n",
       "      <th>60</th>\n",
       "      <td>2986</td>\n",
       "      <td>False</td>\n",
       "      <td>12</td>\n",
       "      <td>0.369069</td>\n",
       "    </tr>\n",
       "    <tr>\n",
       "      <th>64</th>\n",
       "      <td>36137</td>\n",
       "      <td>False</td>\n",
       "      <td>16</td>\n",
       "      <td>0.218425</td>\n",
       "    </tr>\n",
       "    <tr>\n",
       "      <th>65</th>\n",
       "      <td>2526</td>\n",
       "      <td>False</td>\n",
       "      <td>13</td>\n",
       "      <td>0.328758</td>\n",
       "    </tr>\n",
       "    <tr>\n",
       "      <th>69</th>\n",
       "      <td>27978</td>\n",
       "      <td>False</td>\n",
       "      <td>223</td>\n",
       "      <td>0.320092</td>\n",
       "    </tr>\n",
       "    <tr>\n",
       "      <th>75</th>\n",
       "      <td>3389</td>\n",
       "      <td>False</td>\n",
       "      <td>6430</td>\n",
       "      <td>0.476521</td>\n",
       "    </tr>\n",
       "    <tr>\n",
       "      <th>79</th>\n",
       "      <td>800</td>\n",
       "      <td>False</td>\n",
       "      <td>12643</td>\n",
       "      <td>0.362600</td>\n",
       "    </tr>\n",
       "    <tr>\n",
       "      <th>80</th>\n",
       "      <td>7327</td>\n",
       "      <td>False</td>\n",
       "      <td>1686</td>\n",
       "      <td>0.415687</td>\n",
       "    </tr>\n",
       "    <tr>\n",
       "      <th>81</th>\n",
       "      <td>8636</td>\n",
       "      <td>False</td>\n",
       "      <td>24</td>\n",
       "      <td>0.472822</td>\n",
       "    </tr>\n",
       "    <tr>\n",
       "      <th>83</th>\n",
       "      <td>7766</td>\n",
       "      <td>False</td>\n",
       "      <td>23</td>\n",
       "      <td>0.343599</td>\n",
       "    </tr>\n",
       "    <tr>\n",
       "      <th>89</th>\n",
       "      <td>9257</td>\n",
       "      <td>False</td>\n",
       "      <td>29579</td>\n",
       "      <td>0.669863</td>\n",
       "    </tr>\n",
       "  </tbody>\n",
       "</table>\n",
       "</div>"
      ],
      "text/plain": [
       "    catalog  result_answer_seg  result_position_seg  result_cos_seg\n",
       "18    11651              False                   21        0.361160\n",
       "22    10810              False                   11        0.277990\n",
       "23     1620              False                   36        0.292278\n",
       "28    15434              False                   44        0.569273\n",
       "29    13350              False                  712        0.625256\n",
       "31    13997              False                   11        0.236715\n",
       "33    11803              False                 6848        0.564703\n",
       "38    27195              False                   11        0.486325\n",
       "42    24203              False                  845        0.448799\n",
       "57    27698              False                 5448        0.564506\n",
       "58    24339              False                  122        0.326460\n",
       "59    30404              False                  171        0.395615\n",
       "60     2986              False                   12        0.369069\n",
       "64    36137              False                   16        0.218425\n",
       "65     2526              False                   13        0.328758\n",
       "69    27978              False                  223        0.320092\n",
       "75     3389              False                 6430        0.476521\n",
       "79      800              False                12643        0.362600\n",
       "80     7327              False                 1686        0.415687\n",
       "81     8636              False                   24        0.472822\n",
       "83     7766              False                   23        0.343599\n",
       "89     9257              False                29579        0.669863"
      ]
     },
     "execution_count": 29,
     "metadata": {},
     "output_type": "execute_result"
    }
   ],
   "source": [
    "# resultframe[list(filter(lambda x: 'seg' in x or x == 'catalog', resultframe.columns))][resultframe['result_answer_seg'] == False].head(50)"
   ]
  },
  {
   "cell_type": "code",
   "execution_count": null,
   "metadata": {
    "colab": {
     "base_uri": "https://localhost:8080/",
     "height": 698
    },
    "executionInfo": {
     "elapsed": 270,
     "status": "ok",
     "timestamp": 1629466214808,
     "user": {
      "displayName": "Vasil Nugmanov",
      "photoUrl": "",
      "userId": "05552358374765957475"
     },
     "user_tz": -300
    },
    "id": "Mb4sVGijn57d",
    "outputId": "24ac6c85-7f93-4146-e723-c5740b8c33fc"
   },
   "outputs": [
    {
     "data": {
      "text/html": [
       "<div>\n",
       "<style scoped>\n",
       "    .dataframe tbody tr th:only-of-type {\n",
       "        vertical-align: middle;\n",
       "    }\n",
       "\n",
       "    .dataframe tbody tr th {\n",
       "        vertical-align: top;\n",
       "    }\n",
       "\n",
       "    .dataframe thead th {\n",
       "        text-align: right;\n",
       "    }\n",
       "</style>\n",
       "<table border=\"1\" class=\"dataframe\">\n",
       "  <thead>\n",
       "    <tr style=\"text-align: right;\">\n",
       "      <th></th>\n",
       "      <th>catalog</th>\n",
       "      <th>result_answer_seg</th>\n",
       "      <th>result_position_seg</th>\n",
       "      <th>result_cos_seg</th>\n",
       "    </tr>\n",
       "  </thead>\n",
       "  <tbody>\n",
       "    <tr>\n",
       "      <th>18</th>\n",
       "      <td>11651</td>\n",
       "      <td>False</td>\n",
       "      <td>21</td>\n",
       "      <td>0.361160</td>\n",
       "    </tr>\n",
       "    <tr>\n",
       "      <th>22</th>\n",
       "      <td>10810</td>\n",
       "      <td>False</td>\n",
       "      <td>11</td>\n",
       "      <td>0.277990</td>\n",
       "    </tr>\n",
       "    <tr>\n",
       "      <th>23</th>\n",
       "      <td>1620</td>\n",
       "      <td>False</td>\n",
       "      <td>36</td>\n",
       "      <td>0.292278</td>\n",
       "    </tr>\n",
       "    <tr>\n",
       "      <th>28</th>\n",
       "      <td>15434</td>\n",
       "      <td>False</td>\n",
       "      <td>44</td>\n",
       "      <td>0.569273</td>\n",
       "    </tr>\n",
       "    <tr>\n",
       "      <th>29</th>\n",
       "      <td>13350</td>\n",
       "      <td>False</td>\n",
       "      <td>712</td>\n",
       "      <td>0.625256</td>\n",
       "    </tr>\n",
       "    <tr>\n",
       "      <th>31</th>\n",
       "      <td>13997</td>\n",
       "      <td>False</td>\n",
       "      <td>11</td>\n",
       "      <td>0.236715</td>\n",
       "    </tr>\n",
       "    <tr>\n",
       "      <th>33</th>\n",
       "      <td>11803</td>\n",
       "      <td>False</td>\n",
       "      <td>6848</td>\n",
       "      <td>0.564703</td>\n",
       "    </tr>\n",
       "    <tr>\n",
       "      <th>38</th>\n",
       "      <td>27195</td>\n",
       "      <td>False</td>\n",
       "      <td>11</td>\n",
       "      <td>0.486325</td>\n",
       "    </tr>\n",
       "    <tr>\n",
       "      <th>42</th>\n",
       "      <td>24203</td>\n",
       "      <td>False</td>\n",
       "      <td>845</td>\n",
       "      <td>0.448799</td>\n",
       "    </tr>\n",
       "    <tr>\n",
       "      <th>57</th>\n",
       "      <td>27698</td>\n",
       "      <td>False</td>\n",
       "      <td>5448</td>\n",
       "      <td>0.564506</td>\n",
       "    </tr>\n",
       "    <tr>\n",
       "      <th>58</th>\n",
       "      <td>24339</td>\n",
       "      <td>False</td>\n",
       "      <td>122</td>\n",
       "      <td>0.326460</td>\n",
       "    </tr>\n",
       "    <tr>\n",
       "      <th>59</th>\n",
       "      <td>30404</td>\n",
       "      <td>False</td>\n",
       "      <td>171</td>\n",
       "      <td>0.395615</td>\n",
       "    </tr>\n",
       "    <tr>\n",
       "      <th>60</th>\n",
       "      <td>2986</td>\n",
       "      <td>False</td>\n",
       "      <td>12</td>\n",
       "      <td>0.369069</td>\n",
       "    </tr>\n",
       "    <tr>\n",
       "      <th>64</th>\n",
       "      <td>36137</td>\n",
       "      <td>False</td>\n",
       "      <td>16</td>\n",
       "      <td>0.218425</td>\n",
       "    </tr>\n",
       "    <tr>\n",
       "      <th>65</th>\n",
       "      <td>2526</td>\n",
       "      <td>False</td>\n",
       "      <td>13</td>\n",
       "      <td>0.328758</td>\n",
       "    </tr>\n",
       "    <tr>\n",
       "      <th>69</th>\n",
       "      <td>27978</td>\n",
       "      <td>False</td>\n",
       "      <td>223</td>\n",
       "      <td>0.320092</td>\n",
       "    </tr>\n",
       "    <tr>\n",
       "      <th>75</th>\n",
       "      <td>3389</td>\n",
       "      <td>False</td>\n",
       "      <td>6430</td>\n",
       "      <td>0.476521</td>\n",
       "    </tr>\n",
       "    <tr>\n",
       "      <th>79</th>\n",
       "      <td>800</td>\n",
       "      <td>False</td>\n",
       "      <td>12643</td>\n",
       "      <td>0.362600</td>\n",
       "    </tr>\n",
       "    <tr>\n",
       "      <th>80</th>\n",
       "      <td>7327</td>\n",
       "      <td>False</td>\n",
       "      <td>1686</td>\n",
       "      <td>0.415687</td>\n",
       "    </tr>\n",
       "    <tr>\n",
       "      <th>81</th>\n",
       "      <td>8636</td>\n",
       "      <td>False</td>\n",
       "      <td>24</td>\n",
       "      <td>0.472822</td>\n",
       "    </tr>\n",
       "    <tr>\n",
       "      <th>83</th>\n",
       "      <td>7766</td>\n",
       "      <td>False</td>\n",
       "      <td>23</td>\n",
       "      <td>0.343599</td>\n",
       "    </tr>\n",
       "    <tr>\n",
       "      <th>89</th>\n",
       "      <td>9257</td>\n",
       "      <td>False</td>\n",
       "      <td>29579</td>\n",
       "      <td>0.669863</td>\n",
       "    </tr>\n",
       "  </tbody>\n",
       "</table>\n",
       "</div>"
      ],
      "text/plain": [
       "    catalog  result_answer_seg  result_position_seg  result_cos_seg\n",
       "18    11651              False                   21        0.361160\n",
       "22    10810              False                   11        0.277990\n",
       "23     1620              False                   36        0.292278\n",
       "28    15434              False                   44        0.569273\n",
       "29    13350              False                  712        0.625256\n",
       "31    13997              False                   11        0.236715\n",
       "33    11803              False                 6848        0.564703\n",
       "38    27195              False                   11        0.486325\n",
       "42    24203              False                  845        0.448799\n",
       "57    27698              False                 5448        0.564506\n",
       "58    24339              False                  122        0.326460\n",
       "59    30404              False                  171        0.395615\n",
       "60     2986              False                   12        0.369069\n",
       "64    36137              False                   16        0.218425\n",
       "65     2526              False                   13        0.328758\n",
       "69    27978              False                  223        0.320092\n",
       "75     3389              False                 6430        0.476521\n",
       "79      800              False                12643        0.362600\n",
       "80     7327              False                 1686        0.415687\n",
       "81     8636              False                   24        0.472822\n",
       "83     7766              False                   23        0.343599\n",
       "89     9257              False                29579        0.669863"
      ]
     },
     "execution_count": 51,
     "metadata": {},
     "output_type": "execute_result"
    }
   ],
   "source": [
    "resultframe[resultframe['result_answer_seg'] == False].head(50)"
   ]
  },
  {
   "cell_type": "code",
   "execution_count": null,
   "metadata": {
    "colab": {
     "base_uri": "https://localhost:8080/"
    },
    "executionInfo": {
     "elapsed": 1077,
     "status": "ok",
     "timestamp": 1629466244537,
     "user": {
      "displayName": "Vasil Nugmanov",
      "photoUrl": "",
      "userId": "05552358374765957475"
     },
     "user_tz": -300
    },
    "id": "tACmOEnSK3vP",
    "outputId": "4abd4da3-b1aa-4821-f90d-975567f122f8"
   },
   "outputs": [
    {
     "name": "stdout",
     "output_type": "stream",
     "text": [
      "result_answer_seg\n"
     ]
    }
   ],
   "source": [
    "not_found = dict()\n",
    "for i in range(1, len(resultframe.columns), 3):\n",
    "  print(resultframe.columns[i])\n",
    "  count = resultframe[resultframe[resultframe.columns[i]] == False].shape[0]\n",
    "  not_found[resultframe.columns[i]] = count\n",
    "not_found_frame = pd.DataFrame(data=not_found, index=['count'])"
   ]
  },
  {
   "cell_type": "code",
   "execution_count": null,
   "metadata": {
    "colab": {
     "base_uri": "https://localhost:8080/",
     "height": 77
    },
    "executionInfo": {
     "elapsed": 379,
     "status": "ok",
     "timestamp": 1629470079988,
     "user": {
      "displayName": "Vasil Nugmanov",
      "photoUrl": "",
      "userId": "05552358374765957475"
     },
     "user_tz": -300
    },
    "id": "rsIIK-ORgnP-",
    "outputId": "f9bd8b29-5932-4000-ea1d-71199ac63ecd"
   },
   "outputs": [
    {
     "data": {
      "text/html": [
       "<div>\n",
       "<style scoped>\n",
       "    .dataframe tbody tr th:only-of-type {\n",
       "        vertical-align: middle;\n",
       "    }\n",
       "\n",
       "    .dataframe tbody tr th {\n",
       "        vertical-align: top;\n",
       "    }\n",
       "\n",
       "    .dataframe thead th {\n",
       "        text-align: right;\n",
       "    }\n",
       "</style>\n",
       "<table border=\"1\" class=\"dataframe\">\n",
       "  <thead>\n",
       "    <tr style=\"text-align: right;\">\n",
       "      <th></th>\n",
       "      <th>result_answer_seg</th>\n",
       "    </tr>\n",
       "  </thead>\n",
       "  <tbody>\n",
       "    <tr>\n",
       "      <th>count</th>\n",
       "      <td>22</td>\n",
       "    </tr>\n",
       "  </tbody>\n",
       "</table>\n",
       "</div>"
      ],
      "text/plain": [
       "       result_answer_seg\n",
       "count                 22"
      ]
     },
     "execution_count": 54,
     "metadata": {},
     "output_type": "execute_result"
    }
   ],
   "source": [
    "not_found_frame.head()"
   ]
  },
  {
   "cell_type": "code",
   "execution_count": null,
   "metadata": {
    "id": "hBG25XDWIElQ"
   },
   "outputs": [],
   "source": []
  }
 ],
 "metadata": {
  "colab": {
   "collapsed_sections": [],
   "machine_shape": "hm",
   "name": "coin_classifier.ipynb",
   "provenance": [
    {
     "file_id": "1-dha6BL0KIrG4cujxNtJ-YTm6Toy3jjy",
     "timestamp": 1620211510167
    }
   ]
  },
  "kernelspec": {
   "display_name": "Python 3",
   "language": "python",
   "name": "python3"
  },
  "language_info": {
   "codemirror_mode": {
    "name": "ipython",
    "version": 3
   },
   "file_extension": ".py",
   "mimetype": "text/x-python",
   "name": "python",
   "nbconvert_exporter": "python",
   "pygments_lexer": "ipython3",
   "version": "3.7.8"
  }
 },
 "nbformat": 4,
 "nbformat_minor": 1
}
